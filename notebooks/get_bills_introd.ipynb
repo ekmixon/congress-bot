{
 "cells": [
  {
   "cell_type": "code",
   "execution_count": 38,
   "metadata": {},
   "outputs": [],
   "source": [
    "import json\n",
    "import os\n",
    "from pprint import pprint\n",
    "\n",
    "\n",
    "import tweepy\n",
    "import requests\n",
    "\n",
    "headers = {\n",
    "    'X-API-Key': os.environ[\"PP_API_KEY\"],\n",
    "}"
   ]
  },
  {
   "cell_type": "markdown",
   "metadata": {},
   "source": [
    "### get members"
   ]
  },
  {
   "cell_type": "code",
   "execution_count": 14,
   "metadata": {},
   "outputs": [],
   "source": [
    "member_list = []\n",
    "\n",
    "with open('../data/member_data.json', 'r') as ofile:\n",
    "    member_list = json.loads(ofile.read())\n",
    "ofile.close()"
   ]
  },
  {
   "cell_type": "markdown",
   "metadata": {},
   "source": [
    "### just get member ids"
   ]
  },
  {
   "cell_type": "code",
   "execution_count": 15,
   "metadata": {},
   "outputs": [],
   "source": [
    "member_ids = []\n",
    "\n",
    "for member in member_list:\n",
    "    member_ids.append(member[\"id\"])"
   ]
  },
  {
   "cell_type": "markdown",
   "metadata": {},
   "source": [
    "### get most recent bills"
   ]
  },
  {
   "cell_type": "code",
   "execution_count": 16,
   "metadata": {},
   "outputs": [],
   "source": [
    "future_cong = True\n",
    "this_cong = 123\n",
    "\n",
    "while future_cong == True:\n",
    "    resp_json = json.loads(requests.get(\"https://api.propublica.org/congress/v1/\"+ str(this_cong) +\"/house/bills/introduced.json\", headers=headers).text)\n",
    "    if resp_json[\"status\"] == \"500\":\n",
    "        this_cong = this_cong - 1\n",
    "    else:\n",
    "        future_cong = False\n"
   ]
  },
  {
   "cell_type": "markdown",
   "metadata": {},
   "source": [
    "### filter to just this state bills that have not been tweeted"
   ]
  },
  {
   "cell_type": "code",
   "execution_count": 17,
   "metadata": {},
   "outputs": [],
   "source": [
    "this_state_bills = []\n",
    "\n",
    "tweeted_bill_ids = []\n",
    "\n",
    "with open('../data/tweeted_bills.json', \"r\") as ofile:\n",
    "    tweeted_bill_ids = json.loads(ofile.read())\n",
    "ofile.close()\n",
    "\n",
    "for bill in resp_json[\"results\"][0]['bills']:\n",
    "    if bill[\"sponsor_id\"] in member_ids and bill[\"bill_id\"] not in tweeted_bill_ids:\n",
    "        this_state_bills.append(bill)"
   ]
  },
  {
   "cell_type": "code",
   "execution_count": 18,
   "metadata": {},
   "outputs": [
    {
     "data": {
      "text/plain": [
       "[]"
      ]
     },
     "execution_count": 18,
     "metadata": {},
     "output_type": "execute_result"
    }
   ],
   "source": [
    "this_state_bills"
   ]
  },
  {
   "cell_type": "markdown",
   "metadata": {},
   "source": [
    "### craft tweets"
   ]
  },
  {
   "cell_type": "code",
   "execution_count": 19,
   "metadata": {},
   "outputs": [],
   "source": [
    "congress_conversions = {'115': '115th', '116': '116th', '117': '117th', '118': '118th', '119': '119th', '120': '120th', '121': '121st', '122': '122nd', '123': '123rd'}\n",
    "\n",
    "max_tweet_len = 280\n",
    "link_len = 23\n",
    "allowed_text_length = max_tweet_len - link_len - 5\n",
    "\n",
    "for bill in this_state_bills:\n",
    "    member_dict = [x for x in member_list if x[\"id\"] == bill[\"sponsor_id\"]][0]\n",
    "    t_text = \"\"\n",
    "    \n",
    "    try:\n",
    "        full_name = \".@\" + member_dict[\"twitter_id\"] + \" (\" + member_dict[\"party\"] + \")\" \n",
    "    except:\n",
    "        full_name = member_dict[\"role\"][0:3] + \". \" + member_dict[\"name\"] + \" (\" + member_dict[\"party\"] + \")\" \n",
    "        \n",
    "        \n",
    "    t_text = t_text + full_name + \" introduced \" + bill[\"number\"]\n",
    "    t_text = t_text + \", a bill to \" + bill[\"short_title\"].replace('To ', '')\n",
    "    \n",
    "    \n",
    "    if len(t_text) > allowed_text_length:\n",
    "        t_text = t_text[0:allowed_text_length] + \"... \"\n",
    "        \n",
    "        \n",
    "    congress_ord = congress_conversions[str(this_cong)]\n",
    "    bill_nums =  [x for x in list(bill[\"number\"]) if x.isdigit()]\n",
    "    bill_num = \"\".join(bill_nums)\n",
    "    bill_chamber = \"senate\"\n",
    "    if \"H\" in bill['number'].upper():\n",
    "        bill_chamber = \"house\"\n",
    "    congress_gov_url = \"https://www.congress.gov/bill/\"+ congress_ord +\"-congress/\" + bill_chamber + \"-bill/\"+ bill_num\n",
    "    \n",
    "    t_text = t_text + \" \" + congress_gov_url\n",
    "    \n",
    "    print(t_text)\n",
    "    \n",
    "    bill[\"t_text\"] = t_text"
   ]
  },
  {
   "cell_type": "markdown",
   "metadata": {},
   "source": [
    "### send the tweets"
   ]
  },
  {
   "cell_type": "code",
   "execution_count": 20,
   "metadata": {},
   "outputs": [],
   "source": [
    "# send tweets here\n",
    "auth = tweepy.OAuthHandler(os.environ[\"T_CONSUMER_KEY\"],os.environ[\"T_CONSUMER_SECRET\"])\n",
    "auth.set_access_token(os.environ[\"T_ACCESS_TOKEN\"],os.environ[\"T_ACCESS_TOKEN_SECRET\"])\n",
    "api = tweepy.API(auth)\n",
    "    \n",
    "    \n",
    "for bill in this_state_bills:\n",
    "    print(bill[\"t_text\"])\n",
    "    print()\n",
    "    api.update_status(status=bill[\"t_text\"])\n",
    "    \n"
   ]
  },
  {
   "cell_type": "markdown",
   "metadata": {},
   "source": [
    "### log that the bills been tweeted"
   ]
  },
  {
   "cell_type": "code",
   "execution_count": 21,
   "metadata": {},
   "outputs": [],
   "source": [
    "bill_ids = []\n",
    "\n",
    "for bill in this_state_bills:\n",
    "    bill_ids.append(bill[\"bill_id\"]) \n",
    "    \n",
    "tweeted_bill_ids = tweeted_bill_ids + bill_ids\n",
    "\n",
    "with open('../data/tweeted_bills.json', 'w') as ofile:\n",
    "    ofile.write(json.dumps(tweeted_bill_ids))\n",
    "ofile.close()"
   ]
  },
  {
   "cell_type": "code",
   "execution_count": null,
   "metadata": {},
   "outputs": [],
   "source": []
  },
  {
   "cell_type": "code",
   "execution_count": 48,
   "metadata": {},
   "outputs": [
    {
     "data": {
      "text/plain": [
       "{'status': 'OK',\n",
       " 'copyright': 'Copyright (c) 2018 Pro Publica Inc. All Rights Reserved.',\n",
       " 'num_results': 4,\n",
       " 'offset': 200,\n",
       " 'results': [{'url': 'https://www.grassley.senate.gov/news/news-releases/supplemental-fbi-investigation-executive-summary',\n",
       "   'date': '2018-10-05',\n",
       "   'title': 'Supplemental FBI Investigation Executive Summary',\n",
       "   'statement_type': 'Press Release',\n",
       "   'member_id': 'G000386',\n",
       "   'congress': 115,\n",
       "   'member_uri': 'https://api.propublica.org/congress/v1/members/G000386.json',\n",
       "   'name': 'Charles E. Grassley',\n",
       "   'chamber': 'Senate',\n",
       "   'state': 'IA',\n",
       "   'party': 'R',\n",
       "   'subjects': []},\n",
       "  {'url': 'https://www.grassley.senate.gov/news/news-releases/grassley-repeats-request-katz-bromwich-banks-provide-evidence-cited-reported',\n",
       "   'date': '2018-10-05',\n",
       "   'title': 'Grassley Repeats Request of Katz, Bromwich, Banks to Provide Evidence Cited, Reported But Never Provided to Committee',\n",
       "   'statement_type': 'Press Release',\n",
       "   'member_id': 'G000386',\n",
       "   'congress': 115,\n",
       "   'member_uri': 'https://api.propublica.org/congress/v1/members/G000386.json',\n",
       "   'name': 'Charles E. Grassley',\n",
       "   'chamber': 'Senate',\n",
       "   'state': 'IA',\n",
       "   'party': 'R',\n",
       "   'subjects': []},\n",
       "  {'url': 'https://www.murphy.senate.gov/newsroom/statements/murphy-delivers-remarks-on-kavanaugh-nomination-rushed-fbi-investigation',\n",
       "   'date': '2018-10-05',\n",
       "   'title': 'MURPHY DELIVERS REMARKS ON KAVANAUGH NOMINATION, RUSHED FBI INVESTIGATION',\n",
       "   'statement_type': 'Press Release',\n",
       "   'member_id': 'M001169',\n",
       "   'congress': 115,\n",
       "   'member_uri': 'https://api.propublica.org/congress/v1/members/M001169.json',\n",
       "   'name': 'Christopher S. Murphy',\n",
       "   'chamber': 'Senate',\n",
       "   'state': 'CT',\n",
       "   'party': 'D',\n",
       "   'subjects': []},\n",
       "  {'url': 'https://sablan.house.gov/press-release/fema-extends-stay-again',\n",
       "   'date': '2018-10-05',\n",
       "   'title': 'FEMA Extends Stay Again',\n",
       "   'statement_type': 'Press Release',\n",
       "   'member_id': 'S001177',\n",
       "   'congress': 115,\n",
       "   'member_uri': 'https://api.propublica.org/congress/v1/members/S001177.json',\n",
       "   'name': 'Gregorio Kilili Camacho Sablan',\n",
       "   'chamber': 'House',\n",
       "   'state': 'MP',\n",
       "   'party': 'D',\n",
       "   'subjects': []}]}"
      ]
     },
     "execution_count": 48,
     "metadata": {},
     "output_type": "execute_result"
    }
   ],
   "source": [
    "json.loads(requests.get(\"https://api.propublica.org/congress/v1/statements/date/2018-10-05.json?offset=200\", headers=headers).text)"
   ]
  },
  {
   "cell_type": "code",
   "execution_count": null,
   "metadata": {},
   "outputs": [],
   "source": []
  }
 ],
 "metadata": {
  "kernelspec": {
   "display_name": "Python 3",
   "language": "python",
   "name": "python3"
  },
  "language_info": {
   "codemirror_mode": {
    "name": "ipython",
    "version": 3
   },
   "file_extension": ".py",
   "mimetype": "text/x-python",
   "name": "python",
   "nbconvert_exporter": "python",
   "pygments_lexer": "ipython3",
   "version": "3.7.0"
  }
 },
 "nbformat": 4,
 "nbformat_minor": 2
}
