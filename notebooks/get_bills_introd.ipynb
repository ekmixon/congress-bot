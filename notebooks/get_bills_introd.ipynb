{
 "cells": [
  {
   "cell_type": "code",
   "execution_count": 20,
   "metadata": {},
   "outputs": [],
   "source": [
    "import json\n",
    "import os\n",
    "from pprint import pprint\n",
    "\n",
    "\n",
    "import tweepy\n",
    "import requests\n",
    "\n",
    "headers = {\n",
    "    'X-API-Key': os.environ[\"PP_API_KEY\"],\n",
    "}"
   ]
  },
  {
   "cell_type": "markdown",
   "metadata": {},
   "source": [
    "### get members"
   ]
  },
  {
   "cell_type": "code",
   "execution_count": 25,
   "metadata": {},
   "outputs": [],
   "source": [
    "member_list = []\n",
    "\n",
    "with open('../data/member_data.json', 'r') as ofile:\n",
    "    member_list = json.loads(ofile.read())\n",
    "ofile.close()"
   ]
  },
  {
   "cell_type": "markdown",
   "metadata": {},
   "source": [
    "### just get member ids"
   ]
  },
  {
   "cell_type": "code",
   "execution_count": 26,
   "metadata": {},
   "outputs": [],
   "source": [
    "member_ids = []\n",
    "\n",
    "for member in member_list:\n",
    "    member_ids.append(member[\"id\"])"
   ]
  },
  {
   "cell_type": "markdown",
   "metadata": {},
   "source": [
    "### get most recent bills"
   ]
  },
  {
   "cell_type": "code",
   "execution_count": 27,
   "metadata": {},
   "outputs": [],
   "source": [
    "future_cong = True\n",
    "this_cong = 123\n",
    "\n",
    "while future_cong == True:\n",
    "    resp_json = json.loads(requests.get(\"https://api.propublica.org/congress/v1/\"+ str(this_cong) +\"/house/bills/introduced.json\", headers=headers).text)\n",
    "    if resp_json[\"status\"] == \"500\":\n",
    "        this_cong = this_cong - 1\n",
    "    else:\n",
    "        future_cong = False\n"
   ]
  },
  {
   "cell_type": "markdown",
   "metadata": {},
   "source": [
    "### filter to just this state bills"
   ]
  },
  {
   "cell_type": "code",
   "execution_count": 32,
   "metadata": {},
   "outputs": [],
   "source": [
    "this_state_bills = []\n",
    "\n",
    "for bill in resp_results[0]['bills']:\n",
    "    if bill[\"sponsor_id\"] in member_ids:\n",
    "        this_state_bills.append(bill)"
   ]
  },
  {
   "cell_type": "code",
   "execution_count": 37,
   "metadata": {},
   "outputs": [
    {
     "data": {
      "text/plain": [
       "[{'bill_id': 'hr7252-115',\n",
       "  'bill_slug': 'hr7252',\n",
       "  'bill_type': 'hr',\n",
       "  'number': 'H.R.7252',\n",
       "  'bill_uri': 'https://api.propublica.org/congress/v1/115/bills/hr7252.json',\n",
       "  'title': 'To direct the Attorney General to enter into an agreement with the National Academies to conduct a study to develop guidelines, best practices, and examples for congressional redistricting.',\n",
       "  'short_title': 'To direct the Attorney General to enter into an agreement with the National Academies to conduct a study to develop guidelines, best practices, and examples for congressional redistricting.',\n",
       "  'sponsor_title': 'Rep.',\n",
       "  'sponsor_id': 'M001166',\n",
       "  'sponsor_name': 'Jerry McNerney',\n",
       "  'sponsor_state': 'CA',\n",
       "  'sponsor_party': 'D',\n",
       "  'sponsor_uri': 'https://api.propublica.org/congress/v1/members/M001166.json',\n",
       "  'gpo_pdf_uri': None,\n",
       "  'congressdotgov_url': 'https://www.congress.gov/bill/115th-congress/house-bill/7252',\n",
       "  'govtrack_url': 'https://www.govtrack.us/congress/bills/115/hr7252',\n",
       "  'introduced_date': '2018-12-11',\n",
       "  'active': False,\n",
       "  'last_vote': None,\n",
       "  'house_passage': None,\n",
       "  'senate_passage': None,\n",
       "  'enacted': None,\n",
       "  'vetoed': None,\n",
       "  'cosponsors': 0,\n",
       "  'cosponsors_by_party': {},\n",
       "  'committees': 'House Judiciary Committee',\n",
       "  'committee_codes': ['HSJU'],\n",
       "  'subcommittee_codes': [],\n",
       "  'primary_subject': '',\n",
       "  'summary': '',\n",
       "  'summary_short': '',\n",
       "  'latest_major_action_date': '2018-12-11',\n",
       "  'latest_major_action': 'Referred to the House Committee on the Judiciary.',\n",
       "  't_text': '.@RepMcNerney (D)'}]"
      ]
     },
     "execution_count": 37,
     "metadata": {},
     "output_type": "execute_result"
    }
   ],
   "source": [
    "this_state_bills"
   ]
  },
  {
   "cell_type": "markdown",
   "metadata": {},
   "source": [
    "### craft tweets"
   ]
  },
  {
   "cell_type": "code",
   "execution_count": 46,
   "metadata": {},
   "outputs": [
    {
     "name": "stdout",
     "output_type": "stream",
     "text": [
      ".@RepMcNerney (D) introduced H.R.7252, a bill to direct the Attorney General to enter into an agreement with the National Academies to conduct a study to develop guidelines, best practices, and examples for congressional redistricting. https://www.congress.gov/bill/115th-congress/house-bill/7252\n"
     ]
    }
   ],
   "source": [
    "congress_conversions = {'115': '115th', '116': '116th', '117': '117th', '118': '118th', '119': '119th', '120': '120th', '121': '121st', '122': '122nd', '123': '123rd'}\n",
    "\n",
    "max_tweet_len = 280\n",
    "link_len = 23\n",
    "allowed_text_length = max_tweet_len - link_len - 5\n",
    "\n",
    "for bill in this_state_bills:\n",
    "    member_dict = [x for x in member_list if x[\"id\"] == bill[\"sponsor_id\"]][0]\n",
    "    t_text = \"\"\n",
    "    \n",
    "    try:\n",
    "        full_name = \".@\" + member_dict[\"twitter_id\"] + \" (\" + member_dict[\"party\"] + \")\" \n",
    "    except:\n",
    "        full_name = member_dict[\"role\"][0:3] + \". \" + member_dict[\"name\"] + \" (\" + member_dict[\"party\"] + \")\" \n",
    "        \n",
    "        \n",
    "    t_text = t_text + full_name + \" introduced \" + bill[\"number\"]\n",
    "    t_text = t_text + \", a bill to \" + bill[\"short_title\"].replace('To ', '')\n",
    "    \n",
    "    \n",
    "    if len(t_text) > allowed_text_length:\n",
    "        t_text = t_text[0:allowed_text_length] + \"... \"\n",
    "        \n",
    "        \n",
    "    congress_ord = congress_conversions[str(this_cong)]\n",
    "    bill_nums =  [x for x in list(bill[\"number\"]) if x.isdigit()]\n",
    "    bill_num = \"\".join(bill_nums)\n",
    "    bill_chamber = \"senate\"\n",
    "    if \"H\" in bill['number'].upper():\n",
    "        bill_chamber = \"house\"\n",
    "    congress_gov_url = \"https://www.congress.gov/bill/\"+ congress_ord +\"-congress/\" + bill_chamber + \"-bill/\"+ bill_num\n",
    "    \n",
    "    t_text = t_text + \" \" + congress_gov_url\n",
    "    \n",
    "    print(t_text)\n",
    "    \n",
    "    bill[\"t_text\"] = t_text"
   ]
  },
  {
   "cell_type": "code",
   "execution_count": null,
   "metadata": {},
   "outputs": [],
   "source": []
  }
 ],
 "metadata": {
  "kernelspec": {
   "display_name": "Python 3",
   "language": "python",
   "name": "python3"
  },
  "language_info": {
   "codemirror_mode": {
    "name": "ipython",
    "version": 3
   },
   "file_extension": ".py",
   "mimetype": "text/x-python",
   "name": "python",
   "nbconvert_exporter": "python",
   "pygments_lexer": "ipython3",
   "version": "3.7.0"
  }
 },
 "nbformat": 4,
 "nbformat_minor": 2
}
