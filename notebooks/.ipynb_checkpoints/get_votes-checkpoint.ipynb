{
 "cells": [
  {
   "cell_type": "code",
   "execution_count": 42,
   "metadata": {},
   "outputs": [],
   "source": [
    "import json\n",
    "import os\n",
    "from pprint import pprint\n",
    "import tweepy\n",
    "\n",
    "\n",
    "import requests\n",
    "\n",
    "headers = {\n",
    "    'X-API-Key': os.environ[\"PP_API_KEY\"],\n",
    "}"
   ]
  },
  {
   "cell_type": "markdown",
   "metadata": {},
   "source": [
    "### load members we want to track"
   ]
  },
  {
   "cell_type": "code",
   "execution_count": 6,
   "metadata": {},
   "outputs": [],
   "source": [
    "member_list = []\n",
    "\n",
    "with open('../data/member_data.json', 'r') as ofile:\n",
    "    member_list = json.loads(ofile.read())\n",
    "ofile.close()"
   ]
  },
  {
   "cell_type": "markdown",
   "metadata": {},
   "source": [
    "### just get member ids"
   ]
  },
  {
   "cell_type": "code",
   "execution_count": 7,
   "metadata": {},
   "outputs": [],
   "source": [
    "member_ids = []\n",
    "\n",
    "for member in member_list:\n",
    "    member_ids.append(member[\"id\"])"
   ]
  },
  {
   "cell_type": "markdown",
   "metadata": {},
   "source": [
    "### pull all votes for these members"
   ]
  },
  {
   "cell_type": "code",
   "execution_count": 50,
   "metadata": {
    "scrolled": true
   },
   "outputs": [],
   "source": [
    "all_recent_member_votes = []\n",
    "\n",
    "for member_id in member_ids:\n",
    "    recent_member_votes = json.loads(requests.get(\"https://api.propublica.org/congress/v1/members/\"+ member_id +\"/votes.json\", headers=headers).text)[\"results\"]\n",
    "    recent_member_votes = recent_member_votes[0][\"votes\"]\n",
    "    all_recent_member_votes.append(recent_member_votes)                                 \n",
    "    \n",
    "    \n",
    "    "
   ]
  },
  {
   "cell_type": "markdown",
   "metadata": {},
   "source": [
    "### identify votes cast since last vote tracked"
   ]
  },
  {
   "cell_type": "code",
   "execution_count": 139,
   "metadata": {},
   "outputs": [],
   "source": [
    "last_votes = {}\n",
    "\n",
    "with open('../data/last_votes.json', 'r') as ofile:\n",
    "    last_votes = json.loads(ofile.read())\n",
    "ofile.close()\n",
    "\n",
    "\n",
    "new_votes = []\n",
    "\n",
    "for member in all_recent_member_votes:\n",
    "    for vote in member:\n",
    "        if vote[\"roll_call\"] > last_votes[vote[\"member_id\"]]:\n",
    "            new_votes.append(vote)"
   ]
  },
  {
   "cell_type": "markdown",
   "metadata": {},
   "source": [
    "### craft the tweet text from vote dit"
   ]
  },
  {
   "cell_type": "code",
   "execution_count": 140,
   "metadata": {},
   "outputs": [],
   "source": [
    "congress_conversions = {'115': '115th', '116': '116th', '117': '117th', '118': '118th', '119': '119th', '120': '120th', '121': '121st', '122': '122nd', '123': '123rd'}\n",
    "\n",
    "max_tweet_len = 280\n",
    "link_len = 23\n",
    "allowed_text_length = max_tweet_len - link_len - 5\n",
    "\n",
    "for vote in new_votes:\n",
    "    t_text = \"\"\n",
    "    member_dict = [x for x in member_list if x[\"id\"] == vote[\"member_id\"]][0]\n",
    "    full_name = member_dict[\"role\"][0:3] + \". \" + member_dict[\"name\"] + \" (\" + member_dict[\"party\"] + \")\" \n",
    "    t_text = t_text + full_name + \" voted \"\n",
    "    t_text = t_text + vote['position'].lower()\n",
    "    t_text = t_text + \" on \"\n",
    "    t_text = t_text + vote[\"bill\"]['number']  \n",
    "    if vote['bill']['title'] != None:\n",
    "        t_text = t_text + ', ' + vote['bill']['title'].replace(\"A bill\", \"a bill\")\n",
    "    \n",
    "#     if this is a nomination\n",
    "    if 'nomination' in vote:\n",
    "        t_text = t_text + \": the nomination of \" + vote[\"description\"]\n",
    "    \n",
    "    \n",
    "    \n",
    "    \n",
    "    if len(t_text) > allowed_text_length:\n",
    "        t_text = t_text[0:allowed_text_length] + \"... \"\n",
    "        \n",
    "    congress_ord = congress_conversions[vote[\"congress\"]]\n",
    "    bill_nums =  [x for x in list(vote[\"bill\"][\"number\"]) if x.isdigit()]\n",
    "    bill_num = \"\".join(bill_nums)\n",
    "    bill_chamber = \"senate\"\n",
    "    if \"H\" in vote['bill']['number'].upper():\n",
    "        bill_chamber = \"house\"\n",
    "    congress_gov_url = \"https://www.congress.gov/bill/\"+ congress_ord +\"-congress/\" + bill_chamber + \"-bill/\"+ bill_num\n",
    "    if 'nomination' in vote:\n",
    "        congress_gov_url = \"https://www.congress.gov/nomination/\"+ congress_ord +\"-congress/\" + vote[\"nomination\"][\"number\"][2:]\n",
    "    \n",
    "    t_text = t_text + \" \" + congress_gov_url\n",
    "    vote[\"t_text\"] = t_text\n",
    "    "
   ]
  },
  {
   "cell_type": "markdown",
   "metadata": {},
   "source": [
    "### send the tweets"
   ]
  },
  {
   "cell_type": "code",
   "execution_count": 142,
   "metadata": {},
   "outputs": [
    {
     "name": "stdout",
     "output_type": "stream",
     "text": [
      "Sen. Dianne Feinstein (D) voted yes on H.R.2, To provide for the reform and continuation of agricultural and other programs of the Department of Agriculture through fiscal year 2023, and for other purposes. https://www.congress.gov/bill/115th-congress/house-bill/2\n",
      "\n",
      "Sen. Kamala Harris (D) voted yes on H.R.2, To provide for the reform and continuation of agricultural and other programs of the Department of Agriculture through fiscal year 2023, and for other purposes. https://www.congress.gov/bill/115th-congress/house-bill/2\n",
      "\n",
      "Rep. Duncan D. Hunter (R) voted yes on S 825, a bill to provide for the conveyance of certain property to the Southeast Alaska Regional Health Consortium located in Sitka, Alaska, and for other purposes. https://www.congress.gov/bill/115th-congress/senate-bill/825\n",
      "\n",
      "Rep. Tom McClintock (R) voted yes on S 825, a bill to provide for the conveyance of certain property to the Southeast Alaska Regional Health Consortium located in Sitka, Alaska, and for other purposes. https://www.congress.gov/bill/115th-congress/senate-bill/825\n",
      "\n",
      "Rep. Ken Calvert (R) voted yes on S 825, a bill to provide for the conveyance of certain property to the Southeast Alaska Regional Health Consortium located in Sitka, Alaska, and for other purposes. https://www.congress.gov/bill/115th-congress/senate-bill/825\n",
      "\n",
      "Rep. Jim Costa (D) voted not voting on S 825, a bill to provide for the conveyance of certain property to the Southeast Alaska Regional Health Consortium located in Sitka, Alaska, and for other purposes. https://www.congress.gov/bill/115th-congress/senate-bill/825\n",
      "\n",
      "Rep. Susan A. Davis (D) voted yes on S 825, a bill to provide for the conveyance of certain property to the Southeast Alaska Regional Health Consortium located in Sitka, Alaska, and for other purposes. https://www.congress.gov/bill/115th-congress/senate-bill/825\n",
      "\n",
      "Rep. Anna G. Eshoo (D) voted yes on S 825, a bill to provide for the conveyance of certain property to the Southeast Alaska Regional Health Consortium located in Sitka, Alaska, and for other purposes. https://www.congress.gov/bill/115th-congress/senate-bill/825\n",
      "\n",
      "Rep. Darrell Issa (R) voted not voting on S 825, a bill to provide for the conveyance of certain property to the Southeast Alaska Regional Health Consortium located in Sitka, Alaska, and for other purposes. https://www.congress.gov/bill/115th-congress/senate-bill/825\n",
      "\n",
      "Rep. Zoe Lofgren (D) voted yes on S 825, a bill to provide for the conveyance of certain property to the Southeast Alaska Regional Health Consortium located in Sitka, Alaska, and for other purposes. https://www.congress.gov/bill/115th-congress/senate-bill/825\n",
      "\n",
      "Rep. Barbara Lee (D) voted yes on S 825, a bill to provide for the conveyance of certain property to the Southeast Alaska Regional Health Consortium located in Sitka, Alaska, and for other purposes. https://www.congress.gov/bill/115th-congress/senate-bill/825\n",
      "\n",
      "Rep. Doris Matsui (D) voted yes on S 825, a bill to provide for the conveyance of certain property to the Southeast Alaska Regional Health Consortium located in Sitka, Alaska, and for other purposes. https://www.congress.gov/bill/115th-congress/senate-bill/825\n",
      "\n",
      "Rep. Kevin McCarthy (R) voted yes on S 825, a bill to provide for the conveyance of certain property to the Southeast Alaska Regional Health Consortium located in Sitka, Alaska, and for other purposes. https://www.congress.gov/bill/115th-congress/senate-bill/825\n",
      "\n",
      "Rep. Jerry McNerney (D) voted yes on S 825, a bill to provide for the conveyance of certain property to the Southeast Alaska Regional Health Consortium located in Sitka, Alaska, and for other purposes. https://www.congress.gov/bill/115th-congress/senate-bill/825\n",
      "\n",
      "Rep. Grace F. Napolitano (D) voted yes on S 825, a bill to provide for the conveyance of certain property to the Southeast Alaska Regional Health Consortium located in Sitka, Alaska, and for other purposes. https://www.congress.gov/bill/115th-congress/senate-bill/825\n",
      "\n",
      "Rep. Devin Nunes (R) voted yes on S 825, a bill to provide for the conveyance of certain property to the Southeast Alaska Regional Health Consortium located in Sitka, Alaska, and for other purposes. https://www.congress.gov/bill/115th-congress/senate-bill/825\n",
      "\n",
      "Rep. Dana Rohrabacher (R) voted yes on S 825, a bill to provide for the conveyance of certain property to the Southeast Alaska Regional Health Consortium located in Sitka, Alaska, and for other purposes. https://www.congress.gov/bill/115th-congress/senate-bill/825\n",
      "\n",
      "Rep. Lucille Roybal-Allard (D) voted yes on S 825, a bill to provide for the conveyance of certain property to the Southeast Alaska Regional Health Consortium located in Sitka, Alaska, and for other purposes. https://www.congress.gov/bill/115th-congress/senate-bill/825\n",
      "\n",
      "Rep. Edward Royce (R) voted yes on S 825, a bill to provide for the conveyance of certain property to the Southeast Alaska Regional Health Consortium located in Sitka, Alaska, and for other purposes. https://www.congress.gov/bill/115th-congress/senate-bill/825\n",
      "\n",
      "Rep. Brad Sherman (D) voted yes on S 825, a bill to provide for the conveyance of certain property to the Southeast Alaska Regional Health Consortium located in Sitka, Alaska, and for other purposes. https://www.congress.gov/bill/115th-congress/senate-bill/825\n",
      "\n",
      "Rep. Adam B. Schiff (D) voted yes on S 825, a bill to provide for the conveyance of certain property to the Southeast Alaska Regional Health Consortium located in Sitka, Alaska, and for other purposes. https://www.congress.gov/bill/115th-congress/senate-bill/825\n",
      "\n",
      "Rep. Linda T. Sánchez (D) voted yes on S 825, a bill to provide for the conveyance of certain property to the Southeast Alaska Regional Health Consortium located in Sitka, Alaska, and for other purposes. https://www.congress.gov/bill/115th-congress/senate-bill/825\n",
      "\n",
      "Rep. Maxine Waters (D) voted yes on S 825, a bill to provide for the conveyance of certain property to the Southeast Alaska Regional Health Consortium located in Sitka, Alaska, and for other purposes. https://www.congress.gov/bill/115th-congress/senate-bill/825\n",
      "\n",
      "Rep. Jackie Speier (D) voted yes on S 825, a bill to provide for the conveyance of certain property to the Southeast Alaska Regional Health Consortium located in Sitka, Alaska, and for other purposes. https://www.congress.gov/bill/115th-congress/senate-bill/825\n",
      "\n",
      "Rep. John Garamendi (D) voted yes on S 825, a bill to provide for the conveyance of certain property to the Southeast Alaska Regional Health Consortium located in Sitka, Alaska, and for other purposes. https://www.congress.gov/bill/115th-congress/senate-bill/825\n",
      "\n",
      "Rep. Nancy Pelosi (D) voted yes on S 825, a bill to provide for the conveyance of certain property to the Southeast Alaska Regional Health Consortium located in Sitka, Alaska, and for other purposes. https://www.congress.gov/bill/115th-congress/senate-bill/825\n",
      "\n",
      "Rep. Judy Chu (D) voted yes on S 825, a bill to provide for the conveyance of certain property to the Southeast Alaska Regional Health Consortium located in Sitka, Alaska, and for other purposes. https://www.congress.gov/bill/115th-congress/senate-bill/825\n",
      "\n",
      "Rep. Mike Thompson (D) voted yes on S 825, a bill to provide for the conveyance of certain property to the Southeast Alaska Regional Health Consortium located in Sitka, Alaska, and for other purposes. https://www.congress.gov/bill/115th-congress/senate-bill/825\n",
      "\n",
      "Rep. Jeffrey Denham (R) voted yes on S 825, a bill to provide for the conveyance of certain property to the Southeast Alaska Regional Health Consortium located in Sitka, Alaska, and for other purposes. https://www.congress.gov/bill/115th-congress/senate-bill/825\n",
      "\n",
      "Rep. Karen Bass (D) voted yes on S 825, a bill to provide for the conveyance of certain property to the Southeast Alaska Regional Health Consortium located in Sitka, Alaska, and for other purposes. https://www.congress.gov/bill/115th-congress/senate-bill/825\n",
      "\n",
      "Rep. Doug LaMalfa (R) voted yes on S 825, a bill to provide for the conveyance of certain property to the Southeast Alaska Regional Health Consortium located in Sitka, Alaska, and for other purposes. https://www.congress.gov/bill/115th-congress/senate-bill/825\n",
      "\n",
      "Rep. Jared Huffman (D) voted yes on S 825, a bill to provide for the conveyance of certain property to the Southeast Alaska Regional Health Consortium located in Sitka, Alaska, and for other purposes. https://www.congress.gov/bill/115th-congress/senate-bill/825\n",
      "\n",
      "Rep. Paul Cook (R) voted yes on S 825, a bill to provide for the conveyance of certain property to the Southeast Alaska Regional Health Consortium located in Sitka, Alaska, and for other purposes. https://www.congress.gov/bill/115th-congress/senate-bill/825\n",
      "\n",
      "Rep. Eric Swalwell (D) voted yes on S 825, a bill to provide for the conveyance of certain property to the Southeast Alaska Regional Health Consortium located in Sitka, Alaska, and for other purposes. https://www.congress.gov/bill/115th-congress/senate-bill/825\n",
      "\n",
      "Rep. David Valadao (R) voted yes on S 825, a bill to provide for the conveyance of certain property to the Southeast Alaska Regional Health Consortium located in Sitka, Alaska, and for other purposes. https://www.congress.gov/bill/115th-congress/senate-bill/825\n",
      "\n",
      "Rep. Julia Brownley (D) voted yes on S 825, a bill to provide for the conveyance of certain property to the Southeast Alaska Regional Health Consortium located in Sitka, Alaska, and for other purposes. https://www.congress.gov/bill/115th-congress/senate-bill/825\n",
      "\n",
      "Rep. Tony Cárdenas (D) voted yes on S 825, a bill to provide for the conveyance of certain property to the Southeast Alaska Regional Health Consortium located in Sitka, Alaska, and for other purposes. https://www.congress.gov/bill/115th-congress/senate-bill/825\n",
      "\n",
      "Rep. Mark Takano (D) voted yes on S 825, a bill to provide for the conveyance of certain property to the Southeast Alaska Regional Health Consortium located in Sitka, Alaska, and for other purposes. https://www.congress.gov/bill/115th-congress/senate-bill/825\n",
      "\n",
      "Rep. Alan Lowenthal (D) voted yes on S 825, a bill to provide for the conveyance of certain property to the Southeast Alaska Regional Health Consortium located in Sitka, Alaska, and for other purposes. https://www.congress.gov/bill/115th-congress/senate-bill/825\n",
      "\n",
      "Rep. Juan Vargas (D) voted yes on S 825, a bill to provide for the conveyance of certain property to the Southeast Alaska Regional Health Consortium located in Sitka, Alaska, and for other purposes. https://www.congress.gov/bill/115th-congress/senate-bill/825\n",
      "\n",
      "Rep. Ami Bera (D) voted yes on S 825, a bill to provide for the conveyance of certain property to the Southeast Alaska Regional Health Consortium located in Sitka, Alaska, and for other purposes. https://www.congress.gov/bill/115th-congress/senate-bill/825\n",
      "\n",
      "Rep. Raul Ruiz (D) voted yes on S 825, a bill to provide for the conveyance of certain property to the Southeast Alaska Regional Health Consortium located in Sitka, Alaska, and for other purposes. https://www.congress.gov/bill/115th-congress/senate-bill/825\n",
      "\n",
      "Rep. Scott Peters (D) voted yes on S 825, a bill to provide for the conveyance of certain property to the Southeast Alaska Regional Health Consortium located in Sitka, Alaska, and for other purposes. https://www.congress.gov/bill/115th-congress/senate-bill/825\n",
      "\n",
      "Rep. Mark DeSaulnier (D) voted yes on S 825, a bill to provide for the conveyance of certain property to the Southeast Alaska Regional Health Consortium located in Sitka, Alaska, and for other purposes. https://www.congress.gov/bill/115th-congress/senate-bill/825\n",
      "\n",
      "Rep. Steve Knight (R) voted not voting on S 825, a bill to provide for the conveyance of certain property to the Southeast Alaska Regional Health Consortium located in Sitka, Alaska, and for other purposes. https://www.congress.gov/bill/115th-congress/senate-bill/825\n",
      "\n",
      "Rep. Ted Lieu (D) voted yes on S 825, a bill to provide for the conveyance of certain property to the Southeast Alaska Regional Health Consortium located in Sitka, Alaska, and for other purposes. https://www.congress.gov/bill/115th-congress/senate-bill/825\n",
      "\n",
      "Rep. Norma Torres (D) voted yes on S 825, a bill to provide for the conveyance of certain property to the Southeast Alaska Regional Health Consortium located in Sitka, Alaska, and for other purposes. https://www.congress.gov/bill/115th-congress/senate-bill/825\n",
      "\n",
      "Rep. Mimi Walters (R) voted not voting on S 825, a bill to provide for the conveyance of certain property to the Southeast Alaska Regional Health Consortium located in Sitka, Alaska, and for other purposes. https://www.congress.gov/bill/115th-congress/senate-bill/825\n",
      "\n",
      "Rep. Pete Aguilar (D) voted yes on S 825, a bill to provide for the conveyance of certain property to the Southeast Alaska Regional Health Consortium located in Sitka, Alaska, and for other purposes. https://www.congress.gov/bill/115th-congress/senate-bill/825\n",
      "\n",
      "Rep. Ro Khanna (D) voted yes on S 825, a bill to provide for the conveyance of certain property to the Southeast Alaska Regional Health Consortium located in Sitka, Alaska, and for other purposes. https://www.congress.gov/bill/115th-congress/senate-bill/825\n",
      "\n",
      "Rep. Jimmy Panetta (D) voted yes on S 825, a bill to provide for the conveyance of certain property to the Southeast Alaska Regional Health Consortium located in Sitka, Alaska, and for other purposes. https://www.congress.gov/bill/115th-congress/senate-bill/825\n",
      "\n",
      "Rep. Salud Carbajal (D) voted yes on S 825, a bill to provide for the conveyance of certain property to the Southeast Alaska Regional Health Consortium located in Sitka, Alaska, and for other purposes. https://www.congress.gov/bill/115th-congress/senate-bill/825\n",
      "\n",
      "Rep. Nanette Barragán (D) voted yes on S 825, a bill to provide for the conveyance of certain property to the Southeast Alaska Regional Health Consortium located in Sitka, Alaska, and for other purposes. https://www.congress.gov/bill/115th-congress/senate-bill/825\n",
      "\n",
      "Rep. J. Luis Correa (D) voted yes on S 825, a bill to provide for the conveyance of certain property to the Southeast Alaska Regional Health Consortium located in Sitka, Alaska, and for other purposes. https://www.congress.gov/bill/115th-congress/senate-bill/825\n",
      "\n",
      "Rep. Jimmy Gomez (D) voted yes on S 825, a bill to provide for the conveyance of certain property to the Southeast Alaska Regional Health Consortium located in Sitka, Alaska, and for other purposes. https://www.congress.gov/bill/115th-congress/senate-bill/825\n",
      "\n",
      "55\n"
     ]
    }
   ],
   "source": [
    "# send tweets here\n",
    "\n",
    "for vote in new_votes:\n",
    "    print(vote[\"t_text\"])\n",
    "    print()\n",
    "    \n",
    "print(len(new_votes))"
   ]
  },
  {
   "cell_type": "markdown",
   "metadata": {},
   "source": [
    "### track the last vote for each member"
   ]
  },
  {
   "cell_type": "code",
   "execution_count": 51,
   "metadata": {},
   "outputs": [],
   "source": [
    "most_recent_roll_calls = {}\n",
    "\n",
    "for member in all_recent_member_votes:\n",
    "    most_recent_roll_calls[member[0][\"member_id\"]] = member[0][\"roll_call\"]\n",
    "    \n",
    "with open('../data/last_votes.json', 'w') as ofile:\n",
    "    ofile.write(json.dumps(most_recent_roll_calls))\n",
    "ofile.close()\n"
   ]
  },
  {
   "cell_type": "code",
   "execution_count": null,
   "metadata": {},
   "outputs": [],
   "source": []
  }
 ],
 "metadata": {
  "kernelspec": {
   "display_name": "Python 3",
   "language": "python",
   "name": "python3"
  },
  "language_info": {
   "codemirror_mode": {
    "name": "ipython",
    "version": 3
   },
   "file_extension": ".py",
   "mimetype": "text/x-python",
   "name": "python",
   "nbconvert_exporter": "python",
   "pygments_lexer": "ipython3",
   "version": "3.7.0"
  }
 },
 "nbformat": 4,
 "nbformat_minor": 2
}
