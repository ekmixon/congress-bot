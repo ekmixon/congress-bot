{
 "cells": [
  {
   "cell_type": "code",
   "execution_count": 10,
   "metadata": {},
   "outputs": [],
   "source": [
    "import json\n",
    "\n",
    "import requests\n",
    "\n",
    "\n",
    "import os"
   ]
  },
  {
   "cell_type": "markdown",
   "metadata": {},
   "source": [
    "## set api header"
   ]
  },
  {
   "cell_type": "code",
   "execution_count": 5,
   "metadata": {},
   "outputs": [],
   "source": [
    "headers = {\n",
    "    'X-API-Key': os.environ[\"PP_API_KEY\"],\n",
    "}"
   ]
  },
  {
   "cell_type": "markdown",
   "metadata": {},
   "source": [
    "## make api call to get delegation (with requests)"
   ]
  },
  {
   "cell_type": "code",
   "execution_count": 6,
   "metadata": {},
   "outputs": [],
   "source": [
    "senate_resp = requests.get('https://api.propublica.org/congress/v1/members/senate/CA/current.json', headers=headers)\n",
    "house_resp = requests.get('https://api.propublica.org/congress/v1/members/house/CA/current.json', headers=headers)"
   ]
  },
  {
   "cell_type": "markdown",
   "metadata": {},
   "source": [
    "## set list of all members w all data"
   ]
  },
  {
   "cell_type": "code",
   "execution_count": 7,
   "metadata": {},
   "outputs": [],
   "source": [
    "all_members_list = json.loads(senate_resp.text)[\"results\"] + json.loads(house_resp.text)[\"results\"]"
   ]
  },
  {
   "cell_type": "markdown",
   "metadata": {},
   "source": [
    "## function to extract data we want"
   ]
  },
  {
   "cell_type": "code",
   "execution_count": 8,
   "metadata": {},
   "outputs": [],
   "source": [
    "member_data = []\n",
    "\n",
    "def get_member_data(member_list):\n",
    "    for member in member_list:\n",
    "        d = {}\n",
    "        d[\"twitter_id\"] = member[\"twitter_id\"]\n",
    "        d[\"party\"] = member[\"party\"]\n",
    "        d[\"id\"] = member[\"id\"]\n",
    "        d[\"role\"] = member[\"role\"]\n",
    "        d[\"name\"] = member[\"name\"]\n",
    "        member_data.append(d)\n",
    "        \n",
    "get_member_data(all_members_list)"
   ]
  },
  {
   "cell_type": "code",
   "execution_count": 9,
   "metadata": {},
   "outputs": [],
   "source": [
    "with open('../data/member_data.json', 'w') as ofile:\n",
    "    ofile.write(json.dumps(member_data))\n",
    "ofile.close()"
   ]
  }
 ],
 "metadata": {
  "kernelspec": {
   "display_name": "Python 3",
   "language": "python",
   "name": "python3"
  },
  "language_info": {
   "codemirror_mode": {
    "name": "ipython",
    "version": 3
   },
   "file_extension": ".py",
   "mimetype": "text/x-python",
   "name": "python",
   "nbconvert_exporter": "python",
   "pygments_lexer": "ipython3",
   "version": "3.7.0"
  }
 },
 "nbformat": 4,
 "nbformat_minor": 2
}
